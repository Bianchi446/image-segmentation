{
 "cells": [
  {
   "cell_type": "code",
   "execution_count": 6,
   "id": "b0d85932-4556-473d-b181-ed74d091bcf3",
   "metadata": {},
   "outputs": [],
   "source": [
    "in_path = '/home/jose/Desktop/image-segmentation/liver/dicom_files/images'\n",
    "out_path = '/home/jose/Desktop/image-segmentation/liver/dicom_groups/images'"
   ]
  },
  {
   "cell_type": "code",
   "execution_count": 9,
   "id": "fee37493-fb1b-4dbf-9e74-534d8e1ed3c0",
   "metadata": {},
   "outputs": [],
   "source": [
    "from glob import glob\n",
    "import shutil\n",
    "import os\n",
    "import re\n",
    "import dicom2nifti\n",
    "import dicom2nifti.settings\n",
    "import dicom2nifti.settings as settings\n",
    "import nibabel as nib\n",
    "import numpy as np\n",
    "\n",
    "settings. disable_validate_slice_increment()"
   ]
  },
  {
   "cell_type": "markdown",
   "id": "cfd84f62-ebde-46ee-81e9-1234ba5f2985",
   "metadata": {},
   "source": [
    "### Create a group of 65 slices"
   ]
  },
  {
   "cell_type": "code",
   "execution_count": 10,
   "id": "82319d72-f399-4e52-b450-16e7ba6d215e",
   "metadata": {},
   "outputs": [
    {
     "name": "stdout",
     "output_type": "stream",
     "text": [
      "/home/jose/Desktop/image-segmentation/liver/dicom_files/images/liver_19\n"
     ]
    }
   ],
   "source": [
    "patient_list = glob(in_path + '/liver_*')\n",
    "patient_list = sorted(patient_list, key=lambda x:float(re.findall(\"(\\d+)\", x)[0]))\n",
    "print(patient_list[19])"
   ]
  },
  {
   "cell_type": "code",
   "execution_count": 22,
   "id": "b6a48a18-d8bc-42a4-991a-e3806014685f",
   "metadata": {},
   "outputs": [],
   "source": [
    "for patient in patient_list:\n",
    "    patient_name = os.path.basename(os.path.normpath(patient))\n",
    "    number_folders = int(len(glob(patient + \"/*\"))/64)\n",
    "\n",
    "    for i in range(number_folders):\n",
    "        output_path_name = os.path.join(out_path, patient_name + '_' + str(i)) \n",
    "        os.mkdir(output_path_name)\n",
    "        for i, file in enumerate(glob(patient + \"/*\")):\n",
    "            if i == 64 + 1:\n",
    "                break\n",
    "            shutil.move(file, output_path_name)"
   ]
  },
  {
   "cell_type": "markdown",
   "id": "9b280546-b42e-44a6-b82f-6123124e9c90",
   "metadata": {},
   "source": [
    "### Convert the dicom files into nifties"
   ]
  },
  {
   "cell_type": "code",
   "execution_count": 76,
   "id": "f1d41e1d-7648-493a-909f-873ae6c45373",
   "metadata": {},
   "outputs": [],
   "source": [
    "in_path_images = '/home/jose/Desktop/image-segmentation/liver/dicom_groups/images/*'\n",
    "in_path_labels = '/home/jose/Desktop/image-segmentation/liver/dicom_groups/labels/*'\n",
    "out_path_images = '/home/jose/Desktop/image-segmentation/liver/nifti_files/images'\n",
    "out_path_labels = '/home/jose/Desktop/image-segmentation/liver/nifti_files/labels'\n",
    "\n",
    "\n",
    "list_labels = glob(in_path_labels)\n",
    "list_labels = sorted(list_labels, key=lambda x:float(re.findall(\"(\\d+)\", x)[0]))\n",
    "\n",
    "list_images = glob(in_path_images)\n",
    "list_images = sorted(list_images, key=lambda x:float(re.findall(\"(\\d+)\", x)[0]))"
   ]
  },
  {
   "cell_type": "code",
   "execution_count": 77,
   "id": "1d1b8fdf-c565-4655-b191-be4836e90980",
   "metadata": {},
   "outputs": [],
   "source": [
    "for patient in list_images: \n",
    "     patient_name = os.path.basename(os.path.normpath(patient))\n",
    "     dicom2nifti.dicom_series_to_nifti(patient, os.path.join(out_path_images, patient_name + '.nii.gz'))"
   ]
  },
  {
   "cell_type": "code",
   "execution_count": 79,
   "id": "26f2b394-a007-48a1-8e2b-34395e6e71a3",
   "metadata": {},
   "outputs": [],
   "source": [
    "for patient in list_labels: \n",
    "     patient_name = os.path.basename(os.path.normpath(patient))\n",
    "     dicom2nifti.dicom_series_to_nifti(patient, os.path.join(out_path_labels, patient_name + '.nii.gz'))"
   ]
  },
  {
   "cell_type": "markdown",
   "id": "51bf411e",
   "metadata": {},
   "source": [
    "### Find empty "
   ]
  },
  {
   "cell_type": "code",
   "execution_count": 12,
   "id": "c200b809",
   "metadata": {},
   "outputs": [
    {
     "data": {
      "text/plain": [
       "array([0., 1., 2.])"
      ]
     },
     "execution_count": 12,
     "metadata": {},
     "output_type": "execute_result"
    }
   ],
   "source": [
    "input_nifti_file_path = '/home/jose/Desktop/image-segmentation/liver/nifti_files/labels/liver_0_0.nii.gz'\n",
    "list_labels = glob(input_nifti_file_path)\n",
    "\n",
    "for patient in list_labels:\n",
    "\n",
    "    nifti_file = nib.load(input_nifti_file_path)\n",
    "    fdata = nifti_file.get_fdata()\n",
    "    np_unique = np.unique(fdata)\n",
    "    if len(np_unique) == 1:\n",
    "        print(patient)\n",
    "        \n"
   ]
  },
  {
   "cell_type": "code",
   "execution_count": null,
   "id": "537c06e9",
   "metadata": {},
   "outputs": [],
   "source": []
  }
 ],
 "metadata": {
  "kernelspec": {
   "display_name": "Python 3 (ipykernel)",
   "language": "python",
   "name": "python3"
  },
  "language_info": {
   "codemirror_mode": {
    "name": "ipython",
    "version": 3
   },
   "file_extension": ".py",
   "mimetype": "text/x-python",
   "name": "python",
   "nbconvert_exporter": "python",
   "pygments_lexer": "ipython3",
   "version": "3.11.5"
  }
 },
 "nbformat": 4,
 "nbformat_minor": 5
}
