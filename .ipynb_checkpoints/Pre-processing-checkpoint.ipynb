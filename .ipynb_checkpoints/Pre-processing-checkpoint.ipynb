{
 "cells": [
  {
   "cell_type": "markdown",
   "id": "81e00dcb",
   "metadata": {},
   "source": [
    "## Installation and includes \n",
    "\n",
    "Install cuda\n",
    "\n",
    "Install cudnn\n",
    "\n",
    "Install monai\n",
    "\n",
    "Install pytorch"
   ]
  },
  {
   "cell_type": "code",
   "execution_count": null,
   "id": "6568bccc",
   "metadata": {},
   "outputs": [],
   "source": []
  },
  {
   "cell_type": "code",
   "execution_count": 24,
   "id": "b063eafa",
   "metadata": {},
   "outputs": [],
   "source": [
    "import os\n",
    "from glob import glob\n",
    "import shutil\n",
    "from tqdm import tqdm\n",
    "import dicom2nifti\n",
    "import numpy as np\n",
    "import nibabel as nib\n",
    "from monai.transforms import(\n",
    "    Compose,\n",
    "    LoadImaged,\n",
    "    Resized,\n",
    "    ToTensord,\n",
    "    Spacingd,\n",
    "    Orientationd,\n",
    "    ScaleIntensityRanged,\n",
    "    CropForegroundd,\n",
    ")\n",
    "from monai.data import DataLoader, Dataset, CacheDataset\n",
    "from monai.utils import set_determinism, first\n",
    "import matplotlib.pyplot as plt"
   ]
  },
  {
   "cell_type": "code",
   "execution_count": 25,
   "id": "d39a44a5",
   "metadata": {},
   "outputs": [],
   "source": [
    "def prepare(in_dir, pixdim=(1.5, 1.5, 1.0), a_min=-200, a_max=200, spatial_size=[128,128,64], cache=False):\n",
    "\n",
    "    \"\"\"\n",
    "    This function is for preprocessing, it contains only the basic transforms, but you can add more operations that you \n",
    "    find in the Monai documentation.\n",
    "    https://monai.io/docs.html\n",
    "    \"\"\"\n",
    "\n",
    "    set_determinism(seed=0)\n",
    "\n",
    "    path_train_volumes = sorted(glob(os.path.join(in_dir, \"TrainVolumes\", \"*.nii.gz\")))\n",
    "    path_train_segmentation = sorted(glob(os.path.join(in_dir, \"TrainSegmentation\", \"*.nii.gz\")))\n",
    "\n",
    "    path_test_volumes = sorted(glob(os.path.join(in_dir, \"TestVolumes\", \"*.nii.gz\")))\n",
    "    path_test_segmentation = sorted(glob(os.path.join(in_dir, \"TestSegmentation\", \"*.nii.gz\")))\n",
    "\n",
    "    train_files = [{\"vol\": image_name, \"seg\": label_name} for image_name, label_name in zip(path_train_volumes, path_train_segmentation)]\n",
    "    test_files = [{\"vol\": image_name, \"seg\": label_name} for image_name, label_name in zip(path_test_volumes, path_test_segmentation)]\n",
    "\n",
    "    train_transforms = Compose(\n",
    "        [\n",
    "            LoadImaged(keys=[\"vol\", \"seg\"]),\n",
    "            Spacingd(keys=[\"vol\", \"seg\"], pixdim=pixdim, mode=(\"bilinear\", \"nearest\")),\n",
    "            Orientationd(keys=[\"vol\", \"seg\"], axcodes=\"RAS\"),\n",
    "            ScaleIntensityRanged(keys=[\"vol\"], a_min=a_min, a_max=a_max, b_min=0.0, b_max=1.0, clip=True), \n",
    "            CropForegroundd(keys=[\"vol\", \"seg\"], source_key=\"vol\"),\n",
    "            Resized(keys=[\"vol\", \"seg\"], spatial_size=spatial_size),   \n",
    "            ToTensord(keys=[\"vol\", \"seg\"]),\n",
    "\n",
    "        ]\n",
    "    )\n",
    "\n",
    "    test_transforms = Compose(\n",
    "        [\n",
    "            LoadImaged(keys=[\"vol\", \"seg\"]),\n",
    "            Spacingd(keys=[\"vol\", \"seg\"], pixdim=pixdim, mode=(\"bilinear\", \"nearest\")),\n",
    "            Orientationd(keys=[\"vol\", \"seg\"], axcodes=\"RAS\"),\n",
    "            ScaleIntensityRanged(keys=[\"vol\"], a_min=a_min, a_max=a_max,b_min=0.0, b_max=1.0, clip=True), \n",
    "            CropForegroundd(keys=['vol', 'seg'], source_key='vol'),\n",
    "            Resized(keys=[\"vol\", \"seg\"], spatial_size=spatial_size),   \n",
    "            ToTensord(keys=[\"vol\", \"seg\"]),\n",
    "\n",
    "            \n",
    "        ]\n",
    "    )\n",
    "\n",
    "    if cache:\n",
    "        train_ds = CacheDataset(data=train_files, transform=train_transforms,cache_rate=1.0)\n",
    "        train_loader = DataLoader(train_ds, batch_size=1)\n",
    "\n",
    "        test_ds = CacheDataset(data=test_files, transform=test_transforms, cache_rate=1.0)\n",
    "        test_loader = DataLoader(test_ds, batch_size=1)\n",
    "\n",
    "        return train_loader, test_loader\n",
    "\n",
    "    else:\n",
    "        train_ds = Dataset(data=train_files, transform=train_transforms)\n",
    "        train_loader = DataLoader(train_ds, batch_size=1)\n",
    "\n",
    "        test_ds = Dataset(data=test_files, transform=test_transforms)\n",
    "        test_loader = DataLoader(test_ds, batch_size=1)\n",
    "\n",
    "        return train_loader, test_loader"
   ]
  },
  {
   "cell_type": "code",
   "execution_count": 26,
   "id": "533324ef",
   "metadata": {},
   "outputs": [],
   "source": [
    "def show_patient(data, SLICE_NUMBER=1, train=True, test=False):\n",
    "    \"\"\"\n",
    "    This function is to show one patient from your datasets, so that you can si if the it is okay or you need \n",
    "    to change/delete something.\n",
    "\n",
    "    `data`: this parameter should take the patients from the data loader, which means you need to can the function\n",
    "    prepare first and apply the transforms that you want after that pass it to this function so that you visualize \n",
    "    the patient with the transforms that you want.\n",
    "    `SLICE_NUMBER`: this parameter will take the slice number that you want to display/show\n",
    "    `train`: this parameter is to say that you want to display a patient from the training data (by default it is true)\n",
    "    `test`: this parameter is to say that you want to display a patient from the testing patients.\n",
    "    \"\"\"\n",
    "\n",
    "    check_patient_train, check_patient_test = data\n",
    "\n",
    "    view_train_patient = first(check_patient_train)\n",
    "    view_test_patient = first(check_patient_test)\n",
    "\n",
    "    \n",
    "    if train:\n",
    "        plt.figure(\"Visualization Train\", (12, 6))\n",
    "        plt.subplot(1, 2, 1)\n",
    "        plt.title(f\"vol {SLICE_NUMBER}\")\n",
    "\n",
    "        plt.subplot(1, 2, 2)\n",
    "        plt.title(f\"seg {SLICE_NUMBER}\")\n",
    "        plt.show()\n",
    "    \n",
    "    if test:\n",
    "        plt.figure(\"Visualization Test\", (12, 6))\n",
    "        plt.subplot(1, 2, 1)\n",
    "        plt.title(f\"vol {SLICE_NUMBER}\")\n",
    "\n",
    "        plt.subplot(1, 2, 2)\n",
    "        plt.title(f\"seg {SLICE_NUMBER}\")\n",
    "        plt.show()\n"
   ]
  },
  {
   "cell_type": "code",
   "execution_count": 27,
   "id": "36dc518a",
   "metadata": {},
   "outputs": [
    {
     "ename": "TypeError",
     "evalue": "'NoneType' object is not subscriptable",
     "output_type": "error",
     "traceback": [
      "\u001b[0;31m---------------------------------------------------------------------------\u001b[0m",
      "\u001b[0;31mTypeError\u001b[0m                                 Traceback (most recent call last)",
      "Cell \u001b[0;32mIn[27], line 3\u001b[0m\n\u001b[1;32m      1\u001b[0m in_dir \u001b[38;5;241m=\u001b[39m \u001b[38;5;124m\"\u001b[39m\u001b[38;5;124m/home/jose/Desktop/image-segmentation/liver/datasets/Data_Train_Test\u001b[39m\u001b[38;5;124m\"\u001b[39m\n\u001b[1;32m      2\u001b[0m patient \u001b[38;5;241m=\u001b[39m prepare(in_dir)\n\u001b[0;32m----> 3\u001b[0m show_patient(patient, \u001b[38;5;241m5\u001b[39m)\n",
      "Cell \u001b[0;32mIn[26], line 24\u001b[0m, in \u001b[0;36mshow_patient\u001b[0;34m(data, SLICE_NUMBER, train, test)\u001b[0m\n\u001b[1;32m     22\u001b[0m plt\u001b[38;5;241m.\u001b[39msubplot(\u001b[38;5;241m1\u001b[39m, \u001b[38;5;241m2\u001b[39m, \u001b[38;5;241m1\u001b[39m)\n\u001b[1;32m     23\u001b[0m plt\u001b[38;5;241m.\u001b[39mtitle(\u001b[38;5;124mf\u001b[39m\u001b[38;5;124m\"\u001b[39m\u001b[38;5;124mvol \u001b[39m\u001b[38;5;132;01m{\u001b[39;00mSLICE_NUMBER\u001b[38;5;132;01m}\u001b[39;00m\u001b[38;5;124m\"\u001b[39m)\n\u001b[0;32m---> 24\u001b[0m plt\u001b[38;5;241m.\u001b[39mimshow(view_train_patient[\u001b[38;5;124m\"\u001b[39m\u001b[38;5;124mvol\u001b[39m\u001b[38;5;124m\"\u001b[39m][\u001b[38;5;241m0\u001b[39m, \u001b[38;5;241m0\u001b[39m, :, :, SLICE_NUMBER], cmap\u001b[38;5;241m=\u001b[39m\u001b[38;5;124m\"\u001b[39m\u001b[38;5;124mgray\u001b[39m\u001b[38;5;124m\"\u001b[39m)\n\u001b[1;32m     26\u001b[0m plt\u001b[38;5;241m.\u001b[39msubplot(\u001b[38;5;241m1\u001b[39m, \u001b[38;5;241m2\u001b[39m, \u001b[38;5;241m2\u001b[39m)\n\u001b[1;32m     27\u001b[0m plt\u001b[38;5;241m.\u001b[39mtitle(\u001b[38;5;124mf\u001b[39m\u001b[38;5;124m\"\u001b[39m\u001b[38;5;124mseg \u001b[39m\u001b[38;5;132;01m{\u001b[39;00mSLICE_NUMBER\u001b[38;5;132;01m}\u001b[39;00m\u001b[38;5;124m\"\u001b[39m)\n",
      "\u001b[0;31mTypeError\u001b[0m: 'NoneType' object is not subscriptable"
     ]
    },
    {
     "data": {
      "image/png": "[encoded data removed]",
      "text/plain": [
       "<Figure size 1200x600 with 1 Axes>"
      ]
     },
     "metadata": {},
     "output_type": "display_data"
    }
   ],
   "source": [
    "in_dir = \"/home/jose/Desktop/image-segmentation/liver/datasets/Data_Train_Test\"\n",
    "patient = prepare(in_dir)\n",
    "show_patient(patient, 5)"
   ]
  },
  {
   "cell_type": "code",
   "execution_count": null,
   "id": "ad5fdc93",
   "metadata": {},
   "outputs": [],
   "source": []
  }
 ],
 "metadata": {
  "kernelspec": {
   "display_name": "Python 3 (ipykernel)",
   "language": "python",
   "name": "python3"
  },
  "language_info": {
   "codemirror_mode": {
    "name": "ipython",
    "version": 3
   },
   "file_extension": ".py",
   "mimetype": "text/x-python",
   "name": "python",
   "nbconvert_exporter": "python",
   "pygments_lexer": "ipython3",
   "version": "3.11.5"
  }
 },
 "nbformat": 4,
 "nbformat_minor": 5
}
