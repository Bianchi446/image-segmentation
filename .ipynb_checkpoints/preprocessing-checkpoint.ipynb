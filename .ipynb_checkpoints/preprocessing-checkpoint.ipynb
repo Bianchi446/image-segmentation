{
 "cells": [
  {
   "cell_type": "code",
   "execution_count": 1,
   "id": "b0d85932-4556-473d-b181-ed74d091bcf3",
   "metadata": {},
   "outputs": [],
   "source": [
    "in_path = '/home/jose/Desktop/image-segmentation/liver/dicom_files/labels'\n",
    "out_path = '/home/jose/Desktop/image-segmentation/liver/dicom_groups/labels'"
   ]
  },
  {
   "cell_type": "code",
   "execution_count": 2,
   "id": "fee37493-fb1b-4dbf-9e74-534d8e1ed3c0",
   "metadata": {},
   "outputs": [],
   "source": [
    "from glob import glob\n",
    "import shutil\n",
    "import os\n",
    "import re"
   ]
  },
  {
   "cell_type": "code",
   "execution_count": 9,
   "id": "82319d72-f399-4e52-b450-16e7ba6d215e",
   "metadata": {},
   "outputs": [
    {
     "name": "stdout",
     "output_type": "stream",
     "text": [
      "/home/jose/Desktop/image-segmentation/liver/dicom_files/labels/liver_65\n"
     ]
    }
   ],
   "source": [
    "patient_list = glob(in_path + '/liver_*')\n",
    "patient_list = sorted(patient_list, key=lambda x:float(re.findall(\"(\\d+)\", x)[0]))\n",
    "print(patient_list[0])"
   ]
  },
  {
   "cell_type": "code",
   "execution_count": null,
   "id": "b6a48a18-d8bc-42a4-991a-e3806014685f",
   "metadata": {},
   "outputs": [],
   "source": []
  }
 ],
 "metadata": {
  "kernelspec": {
   "display_name": "Python 3 (ipykernel)",
   "language": "python",
   "name": "python3"
  },
  "language_info": {
   "codemirror_mode": {
    "name": "ipython",
    "version": 3
   },
   "file_extension": ".py",
   "mimetype": "text/x-python",
   "name": "python",
   "nbconvert_exporter": "python",
   "pygments_lexer": "ipython3",
   "version": "3.8.18"
  }
 },
 "nbformat": 4,
 "nbformat_minor": 5
}
